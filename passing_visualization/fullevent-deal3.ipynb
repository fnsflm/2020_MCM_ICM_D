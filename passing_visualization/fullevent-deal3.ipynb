{
 "cells": [
  {
   "cell_type": "code",
   "execution_count": 1,
   "metadata": {
    "collapsed": true
   },
   "outputs": [],
   "source": [
    "import pandas as pd\n",
    "import numpy as np\n",
    "import matplotlib.pyplot as plt\n",
    "import seaborn as sns\n",
    "import matplotlib.patches as mpatches"
   ]
  },
  {
   "cell_type": "code",
   "execution_count": 2,
   "outputs": [],
   "source": [
    "data = pd.read_csv('fullevents.csv')\n",
    "data = data.dropna(subset=['EventOrigin_x','EventOrigin_y','EventDestination_x','EventDestination_y'])\n",
    "data_pass0 = pd.read_csv('passingevents.csv')"
   ],
   "metadata": {
    "collapsed": false,
    "pycharm": {
     "name": "#%%\n"
    }
   }
  },
  {
   "cell_type": "code",
   "execution_count": 3,
   "outputs": [],
   "source": [
    "def get_pass_fill(data_pass):\n",
    "    data_pass_fill={}\n",
    "    j=0\n",
    "    for i in range(len(data_pass)-1):\n",
    "        t1 = data_pass.index[i]\n",
    "        t2 = data_pass.index[i+1]\n",
    "        t = data1.index[j]\n",
    "        while t < t1:\n",
    "            j += 1\n",
    "            t = data1.index[j]\n",
    "        while t1 <= t < t2:\n",
    "            xx1 = data1['EventOrigin_x'][t1]\n",
    "            yy1 = data1['EventOrigin_y'][t1]\n",
    "            xx2 = data1['EventOrigin_x'][t2]\n",
    "            yy2 = data1['EventOrigin_y'][t2]\n",
    "            # if t == t1:\n",
    "            #     data_pass_fill['from_x']=xx1\n",
    "            #     data_pass_fill['from_y']=yy1\n",
    "            #     # data_pass_fill['to_x']=xx2\n",
    "            #     # data_pass_fill['to_y']=yy2\n",
    "            # else:\n",
    "            data_pass_fill[t] = [0,0]\n",
    "            data_pass_fill[t][0]=xx1+(xx2-xx1)*(t-t1)/(t2-t1)\n",
    "            data_pass_fill[t][1]=yy1+(yy2-yy1)*(t-t1)/(t2-t1)\n",
    "            j += 1\n",
    "            t = data1.index[j]\n",
    "    return data_pass_fill"
   ],
   "metadata": {
    "collapsed": false,
    "pycharm": {
     "name": "#%%\n"
    }
   }
  },
  {
   "cell_type": "code",
   "execution_count": 4,
   "outputs": [],
   "source": [
    "shadow=5\n",
    "colordic = dict(zip(data['EventType'].unique(),sns.color_palette(n_colors=len(data['EventType'].unique())).as_hex()))\n",
    "patches = [mpatches.Patch(label=i,color=colordic[i]) for i in colordic.keys()]\n",
    "def gen_pic(data1,matchid,matchperiod,shadow=5):\n",
    "    shals_hu=[]\n",
    "    shals_opp=[]\n",
    "    # passls = []     # 五个点\n",
    "    data1_hu=data1[data1['TeamID']=='Huskies']\n",
    "    data1_opp=data1[data1['TeamID']!='Huskies']\n",
    "    data_pass = data_pass0[data_pass0['MatchID']==matchid]\n",
    "    data_pass = data_pass[data_pass['MatchPeriod']==matchperiod].set_index('EventTime')\n",
    "    data_pass_fill=get_pass_fill(data_pass)\n",
    "    print(data_pass_fill)\n",
    "    pass_wnd=[]\n",
    "    for i in data1.index:\n",
    "        plt.clf()\n",
    "        plt.figure(figsize=(9,6))\n",
    "        if i in data1_hu.index:\n",
    "            shals_hu.append(i)\n",
    "            if len(shals_hu) >= shadow:\n",
    "                shals_hu = shals_hu[1:]\n",
    "        for j in shals_hu:\n",
    "            xx1=data1_hu['EventOrigin_x'][j]\n",
    "            xx2=data1_hu['EventDestination_x'][j]\n",
    "            yy1=data1_hu['EventOrigin_y'][j]\n",
    "            yy2=data1_hu['EventDestination_y'][j]\n",
    "            plt.scatter([xx1,xx2],[yy1,yy2],c='black')\n",
    "            # plt.plot([data1_hu['EventOrigin_x'][j],data1_hu['EventDestination_x'][j]],[data1_hu['EventOrigin_y'][j],data1_hu['EventDestination_y'][j]],\n",
    "            #          c=colordic[data1_hu['EventType'][j]])\n",
    "            plt.arrow(xx1,yy1,xx2-xx1,yy2-yy1,fc=colordic[data1_hu['EventType'][j]],width=1.2,length_includes_head=True)\n",
    "            # print(shals_hu)\n",
    "        if i in data1_opp.index:\n",
    "            shals_opp.append(i)\n",
    "            if len(shals_opp)>=shadow:\n",
    "                shals_opp=shals_opp[1:]\n",
    "        for j in shals_opp:\n",
    "            xx1=data1_opp['EventOrigin_x'][j]\n",
    "            xx2=data1_opp['EventDestination_x'][j]\n",
    "            yy1=data1_opp['EventOrigin_y'][j]\n",
    "            yy2=data1_opp['EventDestination_y'][j]\n",
    "            plt.scatter([xx1,xx2],[yy1,yy2],\n",
    "                        c='w',edgecolors='black')\n",
    "            # plt.plot([data1_opp['EventOrigin_x'][j],data1_opp['EventDestination_x'][j]],[data1_opp['EventOrigin_y'][j],data1_opp['EventDestination_y'][j]],\n",
    "            #          c=colordic[data1_opp['EventType'][j]])\n",
    "            plt.arrow(xx1,yy1,xx2-xx1,yy2-yy1,fc=colordic[data1_opp['EventType'][j]],width=1.2,length_includes_head=True)\n",
    "        # if data1['EventType'][i]=='Pass':\n",
    "        #     xx1=data1['EventOrigin_x'][i]\n",
    "        #     xx2=data1['EventDestination_x'][i]\n",
    "        #     yy1=data1['EventOrigin_y'][i]\n",
    "        #     yy2=data1['EventDestination_y'][i]\n",
    "        #     flag=False\n",
    "        #     for j in passls:\n",
    "        #         if xx1==j[0] and yy1==j[1]:\n",
    "        #             flag=True\n",
    "        #             break\n",
    "        #     if flag:\n",
    "        #         passls.append((xx2,yy2))\n",
    "        #     else:\n",
    "        #         passls.append((xx1,yy1))\n",
    "        #         passls.append((xx2,yy2))\n",
    "        #     if len(passls)>5:\n",
    "        #         passls=passls[-5:]\n",
    "        # for j in range(len(passls)-1):\n",
    "        #     plt.arrow(passls[j][0],passls[j][1],passls[j+1][0]-passls[j][0],passls[j+1][1]-passls[j][1],\n",
    "        #               fc=colordic['Pass'],width=3,length_includes_head=True,alpha=0.3)\n",
    "        if i in data_pass_fill.keys():\n",
    "            pass_wnd.append(i)\n",
    "            if len(pass_wnd) > shadow:\n",
    "                pass_wnd=pass_wnd[1:]\n",
    "        for j in range(len(pass_wnd)-1):\n",
    "            p1 = data_pass_fill[pass_wnd[j]]\n",
    "            p2 = data_pass_fill[pass_wnd[j+1]]\n",
    "            plt.arrow(p1[0],p1[1],p2[0]-p1[0],p2[1]-p2[1],\n",
    "                      fc=colordic['Pass'],width=3,length_includes_head=True,alpha=0.3)\n",
    "        plt.xlim(0,110)\n",
    "        plt.ylim(0,110)\n",
    "        plt.title(\"time=%.2f\"%i)\n",
    "        plt.subplots_adjust(right=0.6)\n",
    "        plt.legend(handles=patches,bbox_to_anchor=(1.05, 0),loc=3)\n",
    "        plt.savefig('imgs/%d_%s/%d_%s_%07.2f.jpg'%(matchid,matchperiod,matchid,matchperiod,i))\n",
    "    print(matchperiod)"
   ],
   "metadata": {
    "collapsed": false,
    "pycharm": {
     "name": "#%%\n"
    }
   }
  },
  {
   "cell_type": "code",
   "execution_count": 5,
   "outputs": [
    {
     "ename": "TypeError",
     "evalue": "cannot do label indexing on <class 'pandas.core.indexes.numeric.Int64Index'> with these indexers [46.32] of <class 'numpy.float64'>",
     "output_type": "error",
     "traceback": [
      "\u001B[0;31m---------------------------------------------------------------------------\u001B[0m",
      "\u001B[0;31mTypeError\u001B[0m                                 Traceback (most recent call last)",
      "\u001B[0;32m<ipython-input-5-a0106ca49d9b>\u001B[0m in \u001B[0;36m<module>\u001B[0;34m\u001B[0m\n\u001B[1;32m      4\u001B[0m \u001B[0;31m#     gen_pic(data1[data1['MatchPeriod']=='2H'],i,'2H',shadow)\u001B[0m\u001B[0;34m\u001B[0m\u001B[0;34m\u001B[0m\u001B[0;34m\u001B[0m\u001B[0m\n\u001B[1;32m      5\u001B[0m \u001B[0mdata1\u001B[0m\u001B[0;34m=\u001B[0m\u001B[0mdata\u001B[0m\u001B[0;34m[\u001B[0m\u001B[0mdata\u001B[0m\u001B[0;34m[\u001B[0m\u001B[0;34m'MatchID'\u001B[0m\u001B[0;34m]\u001B[0m\u001B[0;34m==\u001B[0m\u001B[0;36m1\u001B[0m\u001B[0;34m]\u001B[0m\u001B[0;34m\u001B[0m\u001B[0;34m\u001B[0m\u001B[0m\n\u001B[0;32m----> 6\u001B[0;31m \u001B[0mgen_pic\u001B[0m\u001B[0;34m(\u001B[0m\u001B[0mdata1\u001B[0m\u001B[0;34m[\u001B[0m\u001B[0mdata1\u001B[0m\u001B[0;34m[\u001B[0m\u001B[0;34m'MatchPeriod'\u001B[0m\u001B[0;34m]\u001B[0m\u001B[0;34m==\u001B[0m\u001B[0;34m'1H'\u001B[0m\u001B[0;34m]\u001B[0m\u001B[0;34m.\u001B[0m\u001B[0mset_index\u001B[0m\u001B[0;34m(\u001B[0m\u001B[0;34m'EventTime'\u001B[0m\u001B[0;34m)\u001B[0m\u001B[0;34m,\u001B[0m\u001B[0;36m1\u001B[0m\u001B[0;34m,\u001B[0m\u001B[0;34m'1H'\u001B[0m\u001B[0;34m,\u001B[0m\u001B[0mshadow\u001B[0m\u001B[0;34m)\u001B[0m\u001B[0;34m\u001B[0m\u001B[0;34m\u001B[0m\u001B[0m\n\u001B[0m\u001B[1;32m      7\u001B[0m \u001B[0;34m\u001B[0m\u001B[0m\n",
      "\u001B[0;32m<ipython-input-4-7334104ccd87>\u001B[0m in \u001B[0;36mgen_pic\u001B[0;34m(data1, matchid, matchperiod, shadow)\u001B[0m\n\u001B[1;32m     10\u001B[0m     \u001B[0mdata_pass\u001B[0m \u001B[0;34m=\u001B[0m \u001B[0mdata_pass0\u001B[0m\u001B[0;34m[\u001B[0m\u001B[0mdata_pass0\u001B[0m\u001B[0;34m[\u001B[0m\u001B[0;34m'MatchID'\u001B[0m\u001B[0;34m]\u001B[0m\u001B[0;34m==\u001B[0m\u001B[0mmatchid\u001B[0m\u001B[0;34m]\u001B[0m\u001B[0;34m\u001B[0m\u001B[0;34m\u001B[0m\u001B[0m\n\u001B[1;32m     11\u001B[0m     \u001B[0mdata_pass\u001B[0m \u001B[0;34m=\u001B[0m \u001B[0mdata_pass\u001B[0m\u001B[0;34m[\u001B[0m\u001B[0mdata_pass\u001B[0m\u001B[0;34m[\u001B[0m\u001B[0;34m'MatchPeriod'\u001B[0m\u001B[0;34m]\u001B[0m\u001B[0;34m==\u001B[0m\u001B[0mmatchperiod\u001B[0m\u001B[0;34m]\u001B[0m\u001B[0;34m.\u001B[0m\u001B[0mset_index\u001B[0m\u001B[0;34m(\u001B[0m\u001B[0;34m'EventTime'\u001B[0m\u001B[0;34m)\u001B[0m\u001B[0;34m\u001B[0m\u001B[0;34m\u001B[0m\u001B[0m\n\u001B[0;32m---> 12\u001B[0;31m     \u001B[0mdata_pass_fill\u001B[0m\u001B[0;34m=\u001B[0m\u001B[0mget_pass_fill\u001B[0m\u001B[0;34m(\u001B[0m\u001B[0mdata_pass\u001B[0m\u001B[0;34m)\u001B[0m\u001B[0;34m\u001B[0m\u001B[0;34m\u001B[0m\u001B[0m\n\u001B[0m\u001B[1;32m     13\u001B[0m     \u001B[0mprint\u001B[0m\u001B[0;34m(\u001B[0m\u001B[0mdata_pass_fill\u001B[0m\u001B[0;34m)\u001B[0m\u001B[0;34m\u001B[0m\u001B[0;34m\u001B[0m\u001B[0m\n\u001B[1;32m     14\u001B[0m     \u001B[0mpass_wnd\u001B[0m\u001B[0;34m=\u001B[0m\u001B[0;34m[\u001B[0m\u001B[0;34m]\u001B[0m\u001B[0;34m\u001B[0m\u001B[0;34m\u001B[0m\u001B[0m\n",
      "\u001B[0;32m<ipython-input-3-624e6f955e89>\u001B[0m in \u001B[0;36mget_pass_fill\u001B[0;34m(data_pass)\u001B[0m\n\u001B[1;32m     10\u001B[0m             \u001B[0mt\u001B[0m \u001B[0;34m=\u001B[0m \u001B[0mdata1\u001B[0m\u001B[0;34m.\u001B[0m\u001B[0mindex\u001B[0m\u001B[0;34m[\u001B[0m\u001B[0mj\u001B[0m\u001B[0;34m]\u001B[0m\u001B[0;34m\u001B[0m\u001B[0;34m\u001B[0m\u001B[0m\n\u001B[1;32m     11\u001B[0m         \u001B[0;32mwhile\u001B[0m \u001B[0mt1\u001B[0m \u001B[0;34m<=\u001B[0m \u001B[0mt\u001B[0m \u001B[0;34m<\u001B[0m \u001B[0mt2\u001B[0m\u001B[0;34m:\u001B[0m\u001B[0;34m\u001B[0m\u001B[0;34m\u001B[0m\u001B[0m\n\u001B[0;32m---> 12\u001B[0;31m             \u001B[0mxx1\u001B[0m \u001B[0;34m=\u001B[0m \u001B[0mdata1\u001B[0m\u001B[0;34m[\u001B[0m\u001B[0;34m'EventOrigin_x'\u001B[0m\u001B[0;34m]\u001B[0m\u001B[0;34m[\u001B[0m\u001B[0mt1\u001B[0m\u001B[0;34m]\u001B[0m\u001B[0;34m\u001B[0m\u001B[0;34m\u001B[0m\u001B[0m\n\u001B[0m\u001B[1;32m     13\u001B[0m             \u001B[0myy1\u001B[0m \u001B[0;34m=\u001B[0m \u001B[0mdata1\u001B[0m\u001B[0;34m[\u001B[0m\u001B[0;34m'EventOrigin_y'\u001B[0m\u001B[0;34m]\u001B[0m\u001B[0;34m[\u001B[0m\u001B[0mt1\u001B[0m\u001B[0;34m]\u001B[0m\u001B[0;34m\u001B[0m\u001B[0;34m\u001B[0m\u001B[0m\n\u001B[1;32m     14\u001B[0m             \u001B[0mxx2\u001B[0m \u001B[0;34m=\u001B[0m \u001B[0mdata1\u001B[0m\u001B[0;34m[\u001B[0m\u001B[0;34m'EventOrigin_x'\u001B[0m\u001B[0;34m]\u001B[0m\u001B[0;34m[\u001B[0m\u001B[0mt2\u001B[0m\u001B[0;34m]\u001B[0m\u001B[0;34m\u001B[0m\u001B[0;34m\u001B[0m\u001B[0m\n",
      "\u001B[0;32m~/.local/lib/python3.6/site-packages/pandas/core/series.py\u001B[0m in \u001B[0;36m__getitem__\u001B[0;34m(self, key)\u001B[0m\n\u001B[1;32m    869\u001B[0m         \u001B[0mkey\u001B[0m \u001B[0;34m=\u001B[0m \u001B[0mcom\u001B[0m\u001B[0;34m.\u001B[0m\u001B[0mapply_if_callable\u001B[0m\u001B[0;34m(\u001B[0m\u001B[0mkey\u001B[0m\u001B[0;34m,\u001B[0m \u001B[0mself\u001B[0m\u001B[0;34m)\u001B[0m\u001B[0;34m\u001B[0m\u001B[0;34m\u001B[0m\u001B[0m\n\u001B[1;32m    870\u001B[0m         \u001B[0;32mtry\u001B[0m\u001B[0;34m:\u001B[0m\u001B[0;34m\u001B[0m\u001B[0;34m\u001B[0m\u001B[0m\n\u001B[0;32m--> 871\u001B[0;31m             \u001B[0mresult\u001B[0m \u001B[0;34m=\u001B[0m \u001B[0mself\u001B[0m\u001B[0;34m.\u001B[0m\u001B[0mindex\u001B[0m\u001B[0;34m.\u001B[0m\u001B[0mget_value\u001B[0m\u001B[0;34m(\u001B[0m\u001B[0mself\u001B[0m\u001B[0;34m,\u001B[0m \u001B[0mkey\u001B[0m\u001B[0;34m)\u001B[0m\u001B[0;34m\u001B[0m\u001B[0;34m\u001B[0m\u001B[0m\n\u001B[0m\u001B[1;32m    872\u001B[0m \u001B[0;34m\u001B[0m\u001B[0m\n\u001B[1;32m    873\u001B[0m             \u001B[0;32mif\u001B[0m \u001B[0;32mnot\u001B[0m \u001B[0mis_scalar\u001B[0m\u001B[0;34m(\u001B[0m\u001B[0mresult\u001B[0m\u001B[0;34m)\u001B[0m\u001B[0;34m:\u001B[0m\u001B[0;34m\u001B[0m\u001B[0;34m\u001B[0m\u001B[0m\n",
      "\u001B[0;32m~/.local/lib/python3.6/site-packages/pandas/core/indexes/base.py\u001B[0m in \u001B[0;36mget_value\u001B[0;34m(self, series, key)\u001B[0m\n\u001B[1;32m   4401\u001B[0m         \u001B[0mk\u001B[0m \u001B[0;34m=\u001B[0m \u001B[0mcom\u001B[0m\u001B[0;34m.\u001B[0m\u001B[0mvalues_from_object\u001B[0m\u001B[0;34m(\u001B[0m\u001B[0mkey\u001B[0m\u001B[0;34m)\u001B[0m\u001B[0;34m\u001B[0m\u001B[0;34m\u001B[0m\u001B[0m\n\u001B[1;32m   4402\u001B[0m \u001B[0;34m\u001B[0m\u001B[0m\n\u001B[0;32m-> 4403\u001B[0;31m         \u001B[0mk\u001B[0m \u001B[0;34m=\u001B[0m \u001B[0mself\u001B[0m\u001B[0;34m.\u001B[0m\u001B[0m_convert_scalar_indexer\u001B[0m\u001B[0;34m(\u001B[0m\u001B[0mk\u001B[0m\u001B[0;34m,\u001B[0m \u001B[0mkind\u001B[0m\u001B[0;34m=\u001B[0m\u001B[0;34m\"getitem\"\u001B[0m\u001B[0;34m)\u001B[0m\u001B[0;34m\u001B[0m\u001B[0;34m\u001B[0m\u001B[0m\n\u001B[0m\u001B[1;32m   4404\u001B[0m         \u001B[0;32mtry\u001B[0m\u001B[0;34m:\u001B[0m\u001B[0;34m\u001B[0m\u001B[0;34m\u001B[0m\u001B[0m\n\u001B[1;32m   4405\u001B[0m             \u001B[0;32mreturn\u001B[0m \u001B[0mself\u001B[0m\u001B[0;34m.\u001B[0m\u001B[0m_engine\u001B[0m\u001B[0;34m.\u001B[0m\u001B[0mget_value\u001B[0m\u001B[0;34m(\u001B[0m\u001B[0ms\u001B[0m\u001B[0;34m,\u001B[0m \u001B[0mk\u001B[0m\u001B[0;34m,\u001B[0m \u001B[0mtz\u001B[0m\u001B[0;34m=\u001B[0m\u001B[0mgetattr\u001B[0m\u001B[0;34m(\u001B[0m\u001B[0mseries\u001B[0m\u001B[0;34m.\u001B[0m\u001B[0mdtype\u001B[0m\u001B[0;34m,\u001B[0m \u001B[0;34m\"tz\"\u001B[0m\u001B[0;34m,\u001B[0m \u001B[0;32mNone\u001B[0m\u001B[0;34m)\u001B[0m\u001B[0;34m)\u001B[0m\u001B[0;34m\u001B[0m\u001B[0;34m\u001B[0m\u001B[0m\n",
      "\u001B[0;32m~/.local/lib/python3.6/site-packages/pandas/core/indexes/numeric.py\u001B[0m in \u001B[0;36m_convert_scalar_indexer\u001B[0;34m(self, key, kind)\u001B[0m\n\u001B[1;32m    266\u001B[0m         \u001B[0;32mif\u001B[0m \u001B[0mkind\u001B[0m \u001B[0;34m!=\u001B[0m \u001B[0;34m\"iloc\"\u001B[0m\u001B[0;34m:\u001B[0m\u001B[0;34m\u001B[0m\u001B[0;34m\u001B[0m\u001B[0m\n\u001B[1;32m    267\u001B[0m             \u001B[0mkey\u001B[0m \u001B[0;34m=\u001B[0m \u001B[0mself\u001B[0m\u001B[0;34m.\u001B[0m\u001B[0m_maybe_cast_indexer\u001B[0m\u001B[0;34m(\u001B[0m\u001B[0mkey\u001B[0m\u001B[0;34m)\u001B[0m\u001B[0;34m\u001B[0m\u001B[0;34m\u001B[0m\u001B[0m\n\u001B[0;32m--> 268\u001B[0;31m         \u001B[0;32mreturn\u001B[0m \u001B[0msuper\u001B[0m\u001B[0;34m(\u001B[0m\u001B[0;34m)\u001B[0m\u001B[0;34m.\u001B[0m\u001B[0m_convert_scalar_indexer\u001B[0m\u001B[0;34m(\u001B[0m\u001B[0mkey\u001B[0m\u001B[0;34m,\u001B[0m \u001B[0mkind\u001B[0m\u001B[0;34m=\u001B[0m\u001B[0mkind\u001B[0m\u001B[0;34m)\u001B[0m\u001B[0;34m\u001B[0m\u001B[0;34m\u001B[0m\u001B[0m\n\u001B[0m\u001B[1;32m    269\u001B[0m \u001B[0;34m\u001B[0m\u001B[0m\n\u001B[1;32m    270\u001B[0m     \u001B[0;32mdef\u001B[0m \u001B[0m_wrap_joined_index\u001B[0m\u001B[0;34m(\u001B[0m\u001B[0mself\u001B[0m\u001B[0;34m,\u001B[0m \u001B[0mjoined\u001B[0m\u001B[0;34m,\u001B[0m \u001B[0mother\u001B[0m\u001B[0;34m)\u001B[0m\u001B[0;34m:\u001B[0m\u001B[0;34m\u001B[0m\u001B[0;34m\u001B[0m\u001B[0m\n",
      "\u001B[0;32m~/.local/lib/python3.6/site-packages/pandas/core/indexes/base.py\u001B[0m in \u001B[0;36m_convert_scalar_indexer\u001B[0;34m(self, key, kind)\u001B[0m\n\u001B[1;32m   2867\u001B[0m             \u001B[0;32mif\u001B[0m \u001B[0mkind\u001B[0m \u001B[0;32min\u001B[0m \u001B[0;34m[\u001B[0m\u001B[0;34m\"getitem\"\u001B[0m\u001B[0;34m,\u001B[0m \u001B[0;34m\"ix\"\u001B[0m\u001B[0;34m]\u001B[0m \u001B[0;32mand\u001B[0m \u001B[0mis_float\u001B[0m\u001B[0;34m(\u001B[0m\u001B[0mkey\u001B[0m\u001B[0;34m)\u001B[0m\u001B[0;34m:\u001B[0m\u001B[0;34m\u001B[0m\u001B[0;34m\u001B[0m\u001B[0m\n\u001B[1;32m   2868\u001B[0m                 \u001B[0;32mif\u001B[0m \u001B[0;32mnot\u001B[0m \u001B[0mself\u001B[0m\u001B[0;34m.\u001B[0m\u001B[0mis_floating\u001B[0m\u001B[0;34m(\u001B[0m\u001B[0;34m)\u001B[0m\u001B[0;34m:\u001B[0m\u001B[0;34m\u001B[0m\u001B[0;34m\u001B[0m\u001B[0m\n\u001B[0;32m-> 2869\u001B[0;31m                     \u001B[0;32mreturn\u001B[0m \u001B[0mself\u001B[0m\u001B[0;34m.\u001B[0m\u001B[0m_invalid_indexer\u001B[0m\u001B[0;34m(\u001B[0m\u001B[0;34m\"label\"\u001B[0m\u001B[0;34m,\u001B[0m \u001B[0mkey\u001B[0m\u001B[0;34m)\u001B[0m\u001B[0;34m\u001B[0m\u001B[0;34m\u001B[0m\u001B[0m\n\u001B[0m\u001B[1;32m   2870\u001B[0m \u001B[0;34m\u001B[0m\u001B[0m\n\u001B[1;32m   2871\u001B[0m             \u001B[0;32melif\u001B[0m \u001B[0mkind\u001B[0m \u001B[0;32min\u001B[0m \u001B[0;34m[\u001B[0m\u001B[0;34m\"loc\"\u001B[0m\u001B[0;34m]\u001B[0m \u001B[0;32mand\u001B[0m \u001B[0mis_float\u001B[0m\u001B[0;34m(\u001B[0m\u001B[0mkey\u001B[0m\u001B[0;34m)\u001B[0m\u001B[0;34m:\u001B[0m\u001B[0;34m\u001B[0m\u001B[0;34m\u001B[0m\u001B[0m\n",
      "\u001B[0;32m~/.local/lib/python3.6/site-packages/pandas/core/indexes/base.py\u001B[0m in \u001B[0;36m_invalid_indexer\u001B[0;34m(self, form, key)\u001B[0m\n\u001B[1;32m   3075\u001B[0m         \"\"\"\n\u001B[1;32m   3076\u001B[0m         raise TypeError(\n\u001B[0;32m-> 3077\u001B[0;31m             \u001B[0;34mf\"cannot do {form} indexing on {type(self)} with these \"\u001B[0m\u001B[0;34m\u001B[0m\u001B[0;34m\u001B[0m\u001B[0m\n\u001B[0m\u001B[1;32m   3078\u001B[0m             \u001B[0;34mf\"indexers [{key}] of {type(key)}\"\u001B[0m\u001B[0;34m\u001B[0m\u001B[0;34m\u001B[0m\u001B[0m\n\u001B[1;32m   3079\u001B[0m         )\n",
      "\u001B[0;31mTypeError\u001B[0m: cannot do label indexing on <class 'pandas.core.indexes.numeric.Int64Index'> with these indexers [46.32] of <class 'numpy.float64'>"
     ]
    }
   ],
   "source": [
    "# for i in data['MatchID'].unique():\n",
    "#     data1=data[data['MatchID']==i]\n",
    "#     gen_pic(data1[data1['MatchPeriod']=='1H'],i,'1H',shadow)\n",
    "#     gen_pic(data1[data1['MatchPeriod']=='2H'],i,'2H',shadow)\n",
    "data1=data[data['MatchID']==1]\n",
    "gen_pic(data1[data1['MatchPeriod']=='1H'].set_index('EventTime'),1,'1H',shadow)"
   ],
   "metadata": {
    "collapsed": false,
    "pycharm": {
     "name": "#%%\n"
    }
   }
  },
  {
   "cell_type": "code",
   "execution_count": null,
   "outputs": [],
   "source": [
    "import cv2\n",
    "import os\n",
    "# fourcc=cv2.VideoWriter_fourcc(*\"mp4v\")\n",
    "def img_to_video(matchid,matchperiod):\n",
    "    fps=2\n",
    "    perfix='%d_%s'%(matchid,matchperiod)\n",
    "    video = cv2.VideoWriter('videos/'+perfix+'.mp4', cv2.VideoWriter_fourcc(*\"mp4v\"), fps, (648,432))\n",
    "    for i in sorted(os.listdir('imgs/'+perfix)) :\n",
    "        if i.find('jpg')==-1:\n",
    "            continue\n",
    "        image=cv2.imread('imgs/'+perfix+'/'+i)\n",
    "        # print(image)\n",
    "        video.write(image)\n",
    "        # print(\"ok\")\n",
    "    video.release()\n",
    "# cv2.waitKey()"
   ],
   "metadata": {
    "collapsed": false,
    "pycharm": {
     "name": "#%%\n"
    }
   }
  },
  {
   "cell_type": "code",
   "execution_count": null,
   "outputs": [],
   "source": [
    "# for i in data['MatchID'].unique():\n",
    "#     img_to_video(i,'1H')\n",
    "#     img_to_video(i,'2H')\n",
    "img_to_video(1,'1H')"
   ],
   "metadata": {
    "collapsed": false,
    "pycharm": {
     "name": "#%%\n"
    }
   }
  },
  {
   "cell_type": "code",
   "execution_count": null,
   "outputs": [],
   "source": [
    "# f = plt.figure()\n",
    "# f.get_size_inches()"
   ],
   "metadata": {
    "collapsed": false,
    "pycharm": {
     "name": "#%%\n"
    }
   }
  },
  {
   "cell_type": "code",
   "execution_count": null,
   "outputs": [],
   "source": [
    "data['EventType'].unique()\n"
   ],
   "metadata": {
    "collapsed": false,
    "pycharm": {
     "name": "#%%\n"
    }
   }
  },
  {
   "cell_type": "code",
   "execution_count": null,
   "outputs": [],
   "source": [
    "data1=data[data['MatchID']==1]\n",
    "data1[data1['MatchPeriod']=='1H'].set_index('EventTime').to_csv('11h_reindex.csv')"
   ],
   "metadata": {
    "collapsed": false,
    "pycharm": {
     "name": "#%%\n"
    }
   }
  },
  {
   "cell_type": "code",
   "execution_count": null,
   "outputs": [],
   "source": [
    "data1\n",
    "\n",
    "\n"
   ],
   "metadata": {
    "collapsed": false,
    "pycharm": {
     "name": "#%%\n"
    }
   }
  }
 ],
 "metadata": {
  "kernelspec": {
   "display_name": "PyCharm (2020-11-16)",
   "language": "python",
   "name": "pycharm-f6d9f65c"
  },
  "language_info": {
   "codemirror_mode": {
    "name": "ipython",
    "version": 2
   },
   "file_extension": ".py",
   "mimetype": "text/x-python",
   "name": "python",
   "nbconvert_exporter": "python",
   "pygments_lexer": "ipython2",
   "version": "2.7.6"
  }
 },
 "nbformat": 4,
 "nbformat_minor": 0
}